{
 "cells": [
  {
   "cell_type": "markdown",
   "id": "0892ad85-303e-4382-b4b3-139c9e51653e",
   "metadata": {},
   "source": [
    "# List\n",
    "In Python, a list allows you to store multiple items within a single variable. Lists are created using square brackets and can contain items of different data types,it is a mutable, or changeable, ordered sequence of elements"
   ]
  },
  {
   "cell_type": "code",
   "execution_count": 2,
   "id": "c7032ebc-f630-4c03-b834-a53a5ef6f9b3",
   "metadata": {},
   "outputs": [
    {
     "name": "stdout",
     "output_type": "stream",
     "text": [
      "[1, 2, 3, 4, 5, 6, 7, 8, 9]\n",
      "['apple', 34, True, 'banana']\n"
     ]
    }
   ],
   "source": [
    "l1 = [1,2,3,4,5,6,7,8,9]\n",
    "print(l1)\n",
    "my_list = [\"apple\", 34, True, \"banana\"]\n",
    "print(my_list)"
   ]
  },
  {
   "cell_type": "markdown",
   "id": "987b834a-7e6d-4503-a4fd-19af5a1810a4",
   "metadata": {},
   "source": [
    "# List Function\n",
    "Their are multiple built-in function in python , following are\n",
    "\n",
    "## Append()\n",
    "#### It is Used for adding elements to the end of the List."
   ]
  },
  {
   "cell_type": "code",
   "execution_count": 3,
   "id": "6961c9a8-6cb5-4d62-ac2c-d29c352228eb",
   "metadata": {},
   "outputs": [
    {
     "data": {
      "text/plain": [
       "[1, 2, 3, 4, 5, 6, 7, 8, 9, 11]"
      ]
     },
     "execution_count": 3,
     "metadata": {},
     "output_type": "execute_result"
    }
   ],
   "source": [
    "l1.append(11)\n",
    "l1"
   ]
  },
  {
   "cell_type": "markdown",
   "id": "4eef4b61-738e-4373-8752-679dc203c1db",
   "metadata": {},
   "source": [
    "## Clear()\n",
    "\n",
    "#### This method is used for removing all items from the list. "
   ]
  },
  {
   "cell_type": "code",
   "execution_count": 4,
   "id": "5ee59959-ba6e-4ea9-bd46-d14778b58e87",
   "metadata": {},
   "outputs": [
    {
     "data": {
      "text/plain": [
       "[]"
      ]
     },
     "execution_count": 4,
     "metadata": {},
     "output_type": "execute_result"
    }
   ],
   "source": [
    "my_list.clear()\n",
    "my_list"
   ]
  },
  {
   "cell_type": "markdown",
   "id": "b1f9f0d8-444c-4c91-974b-98881068d5e5",
   "metadata": {},
   "source": [
    "## Copy()\n",
    "\n",
    "#### the copy function is used to create a copy of a list"
   ]
  },
  {
   "cell_type": "code",
   "execution_count": 5,
   "id": "bbff95fc-c673-405b-9841-03a1e19d2924",
   "metadata": {},
   "outputs": [
    {
     "name": "stdout",
     "output_type": "stream",
     "text": [
      "['apple', 'banana', 'cherry']\n"
     ]
    }
   ],
   "source": [
    "fruits = [\"apple\", \"banana\", \"cherry\"]\n",
    "fruits_copy = fruits.copy()\n",
    "print(fruits_copy)apple_count = fruits.count('apple')\n"
   ]
  },
  {
   "cell_type": "markdown",
   "id": "c0b7c031-2604-442e-b669-5c134db3596a",
   "metadata": {},
   "source": [
    "## Count()\n",
    "#### It returns the count of how many times an element is present in a list.\n"
   ]
  },
  {
   "cell_type": "code",
   "execution_count": 12,
   "id": "ef5a9730-c3bd-4fca-99f4-82ed46198417",
   "metadata": {},
   "outputs": [
    {
     "name": "stdout",
     "output_type": "stream",
     "text": [
      "The count of apple is: 3\n"
     ]
    }
   ],
   "source": [
    "fal = ['apple', 'banana', 'cherry', 'apple', 'cherry', 'apple']\n",
    "apple_count = fal.count('apple')\n",
    "print('The count of apple is:', apple_count)\n"
   ]
  },
  {
   "cell_type": "markdown",
   "id": "49d2fed5-1010-4ff5-bee3-27691ead96b8",
   "metadata": {},
   "source": [
    "## Extend()\n",
    "#### It is used to add all the elements of an iterable (like list, tuple, string etc.) to the end of the list.\n"
   ]
  },
  {
   "cell_type": "code",
   "execution_count": 29,
   "id": "76ca5a2c-410c-442e-9ea5-f43ee23c974f",
   "metadata": {},
   "outputs": [
    {
     "name": "stdout",
     "output_type": "stream",
     "text": [
      "['Aarav', 'Priya', 'Vijay', 'Anita', 'Deepika', 'Rohan', 'Ishaan', 'Kavya']\n"
     ]
    }
   ],
   "source": [
    "names = [\"Aarav\", \"Priya\", \"Vijay\", \"Anita\"]\n",
    "more_names = [\"Deepika\", \"Rohan\", \"Ishaan\", \"Kavya\"]\n",
    "names.extend(more_names)\n",
    "print(names)\n"
   ]
  },
  {
   "cell_type": "markdown",
   "id": "a4995fcf-6e0e-472f-8560-7ee5e4f7ee02",
   "metadata": {},
   "source": [
    "## Index()\n",
    "\n",
    "#### This method is used to find position of element in list."
   ]
  },
  {
   "cell_type": "code",
   "execution_count": 30,
   "id": "c27c11e0-8f72-4cf8-ac0d-202c05179eef",
   "metadata": {},
   "outputs": [
    {
     "name": "stdout",
     "output_type": "stream",
     "text": [
      "3\n"
     ]
    }
   ],
   "source": [
    "print(names.index('Anita'))"
   ]
  },
  {
   "cell_type": "markdown",
   "id": "9121014d-808b-48b2-b812-e5810ec00322",
   "metadata": {},
   "source": [
    "## Insert()\n",
    "#### This method inserts an item at a specific index in a list."
   ]
  },
  {
   "cell_type": "code",
   "execution_count": 31,
   "id": "ef45d738-8351-43db-8a09-da0351151136",
   "metadata": {},
   "outputs": [
    {
     "name": "stdout",
     "output_type": "stream",
     "text": [
      "['Aarav', 'Priya', 'Vijay', 'Anita', 'Deepika', 'Rohan', 'Gaurav', 'Ishaan', 'Kavya']\n"
     ]
    }
   ],
   "source": [
    "names.insert(6,'Gaurav')\n",
    "print(names)"
   ]
  },
  {
   "cell_type": "markdown",
   "id": "8af0a826-5286-4861-8371-12d82f1d2efa",
   "metadata": {},
   "source": [
    "## Pop()\n",
    "#### This function removes elements at a specific index from the list."
   ]
  },
  {
   "cell_type": "code",
   "execution_count": 32,
   "id": "75c82cf7-fe71-441f-b69c-a7476400202e",
   "metadata": {},
   "outputs": [
    {
     "data": {
      "text/plain": [
       "['Aarav', 'Priya', 'Vijay', 'Anita', 'Deepika', 'Rohan', 'Ishaan', 'Kavya']"
      ]
     },
     "execution_count": 32,
     "metadata": {},
     "output_type": "execute_result"
    }
   ],
   "source": [
    "names.pop(6)\n",
    "names"
   ]
  },
  {
   "cell_type": "markdown",
   "id": "a321e274-bf45-4572-9f3f-54fab5b6ee6f",
   "metadata": {},
   "source": [
    "## Remove()\n",
    "#### This method removes a given element from the list."
   ]
  },
  {
   "cell_type": "code",
   "execution_count": 33,
   "id": "f3830ff8-3884-48a3-ba9a-618fadaf18d9",
   "metadata": {},
   "outputs": [],
   "source": [
    "names.remove('Priya')"
   ]
  },
  {
   "cell_type": "code",
   "execution_count": 34,
   "id": "0f9a35c0-5f5c-4426-a577-debd52398640",
   "metadata": {},
   "outputs": [
    {
     "data": {
      "text/plain": [
       "['Aarav', 'Vijay', 'Anita', 'Deepika', 'Rohan', 'Ishaan', 'Kavya']"
      ]
     },
     "execution_count": 34,
     "metadata": {},
     "output_type": "execute_result"
    }
   ],
   "source": [
    "names"
   ]
  },
  {
   "cell_type": "markdown",
   "id": "e28f30f9-3c2e-4306-9b60-b7967619a118",
   "metadata": {},
   "source": [
    "## Reverse()\n",
    "#### It reverses objects of the List in place"
   ]
  },
  {
   "cell_type": "code",
   "execution_count": 36,
   "id": "2f68a12a-74a9-4ec6-9dd6-1a89a80b00ed",
   "metadata": {},
   "outputs": [
    {
     "data": {
      "text/plain": [
       "['Kavya', 'Ishaan', 'Rohan', 'Deepika', 'Anita', 'Vijay', 'Aarav']"
      ]
     },
     "execution_count": 36,
     "metadata": {},
     "output_type": "execute_result"
    }
   ],
   "source": [
    "names.reverse()\n",
    "names"
   ]
  },
  {
   "cell_type": "markdown",
   "id": "bd4d366c-14ab-4a84-83e0-665da18d5b9d",
   "metadata": {},
   "source": [
    "## Sort()\n",
    "#### It sorts in ascending order by default but can also sort values in descending order or in a custom manner using its parameters."
   ]
  },
  {
   "cell_type": "code",
   "execution_count": 37,
   "id": "739ff971-5e1e-4192-89b2-b3661b3dab44",
   "metadata": {},
   "outputs": [
    {
     "data": {
      "text/plain": [
       "['Aarav', 'Anita', 'Deepika', 'Ishaan', 'Kavya', 'Rohan', 'Vijay']"
      ]
     },
     "execution_count": 37,
     "metadata": {},
     "output_type": "execute_result"
    }
   ],
   "source": [
    "names.sort()\n",
    "names"
   ]
  },
  {
   "cell_type": "code",
   "execution_count": 38,
   "id": "b17e1bfb-591e-4a1d-859c-b8733601efb2",
   "metadata": {},
   "outputs": [
    {
     "data": {
      "text/plain": [
       "['Vijay', 'Rohan', 'Kavya', 'Ishaan', 'Deepika', 'Anita', 'Aarav']"
      ]
     },
     "execution_count": 38,
     "metadata": {},
     "output_type": "execute_result"
    }
   ],
   "source": [
    "names.sort(reverse = True)\n",
    "names"
   ]
  },
  {
   "cell_type": "code",
   "execution_count": null,
   "id": "bc123f8a-8837-4f1d-a218-bd1304e8ef00",
   "metadata": {},
   "outputs": [],
   "source": []
  }
 ],
 "metadata": {
  "kernelspec": {
   "display_name": "Python 3 (ipykernel)",
   "language": "python",
   "name": "python3"
  },
  "language_info": {
   "codemirror_mode": {
    "name": "ipython",
    "version": 3
   },
   "file_extension": ".py",
   "mimetype": "text/x-python",
   "name": "python",
   "nbconvert_exporter": "python",
   "pygments_lexer": "ipython3",
   "version": "3.11.7"
  }
 },
 "nbformat": 4,
 "nbformat_minor": 5
}
