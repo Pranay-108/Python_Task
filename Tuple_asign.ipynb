{
 "cells": [
  {
   "cell_type": "markdown",
   "id": "c2fffeaa-37f2-440c-b660-9499df227567",
   "metadata": {},
   "source": [
    "# Tuple\n",
    "In Python, a tuple is a built-in data type that’s used to store a collection of items. Tuples are similar to lists, but they are immutable, meaning once a tuple is created, its contents cannot be changed."
   ]
  },
  {
   "cell_type": "code",
   "execution_count": 2,
   "id": "56e86de1-722e-45f8-ace7-6631b3a457fe",
   "metadata": {},
   "outputs": [
    {
     "name": "stdout",
     "output_type": "stream",
     "text": [
      "('apple', 'banana', 'cherry')\n",
      "<class 'tuple'>\n",
      "('abc', 34, True, 40, 'male')\n",
      "<class 'tuple'>\n"
     ]
    }
   ],
   "source": [
    "my_tuple = (\"apple\", \"banana\", \"cherry\")\n",
    "mixed_tuple = (\"abc\", 34, True, 40, \"male\")\n",
    "print(my_tuple)\n",
    "print(type(my_tuple))\n",
    "print(mixed_tuple)\n",
    "print(type(mixed_tuple))"
   ]
  },
  {
   "cell_type": "markdown",
   "id": "bdcda23b-cd50-431e-9011-5780b1cc0a01",
   "metadata": {},
   "source": [
    "### Indexing\n",
    "The 'INDEX' method helps us to find the index or occurrence of an element in the tuple."
   ]
  },
  {
   "cell_type": "code",
   "execution_count": 3,
   "id": "dda8318b-622b-4d9d-8d5a-712b22cd2166",
   "metadata": {},
   "outputs": [
    {
     "name": "stdout",
     "output_type": "stream",
     "text": [
      "apple\n",
      "34\n"
     ]
    }
   ],
   "source": [
    "print(my_tuple[0]) \n",
    "print(mixed_tuple[1])"
   ]
  },
  {
   "cell_type": "markdown",
   "id": "9a11253d-c956-4eff-8614-5724b3a91d9f",
   "metadata": {},
   "source": [
    "### Slicing \n",
    "The 'SLICING' is extract a subset of elements from a tuple."
   ]
  },
  {
   "cell_type": "code",
   "execution_count": 5,
   "id": "f4cde83a-4638-499d-a9f3-55338e35beec",
   "metadata": {},
   "outputs": [
    {
     "name": "stdout",
     "output_type": "stream",
     "text": [
      "(34, True, 40)\n"
     ]
    }
   ],
   "source": [
    "print(mixed_tuple[1:4])"
   ]
  },
  {
   "cell_type": "markdown",
   "id": "9ac26fa6-468b-4477-addc-9262aa55f6c9",
   "metadata": {},
   "source": [
    "### Length\n",
    "The 'LENGTH' is get the number of elements in a tuple using the len() function."
   ]
  },
  {
   "cell_type": "code",
   "execution_count": 6,
   "id": "7941eb90-9bc4-4b6d-9e04-fbfbd6e160bb",
   "metadata": {},
   "outputs": [
    {
     "name": "stdout",
     "output_type": "stream",
     "text": [
      "8\n"
     ]
    }
   ],
   "source": [
    "t1 = (19, 21, 23, 47, 87,94,29,99)\n",
    "print(len(t1)) "
   ]
  },
  {
   "cell_type": "markdown",
   "id": "9391d0bd-9a36-4912-89ef-8cf4bfa69d73",
   "metadata": {},
   "source": [
    "### Concatination\n",
    "The 'CONCATENATION' are concatenate two tuples using the + operator."
   ]
  },
  {
   "cell_type": "code",
   "execution_count": 7,
   "id": "373c8af4-c185-4363-8276-f8544941606b",
   "metadata": {},
   "outputs": [
    {
     "name": "stdout",
     "output_type": "stream",
     "text": [
      "('apple', 'banana', 'cherry', 'abc', 34, True, 40, 'male')\n"
     ]
    }
   ],
   "source": [
    "concat_tuple = my_tuple +mixed_tuple\n",
    "print(concat_tuple)"
   ]
  },
  {
   "cell_type": "markdown",
   "id": "96c5ba45-a73b-46b2-8813-6b17deff5ced",
   "metadata": {},
   "source": [
    "### Repetition\n",
    "The 'REPETITION' is repeat a tuple for a given number of times using the * operator."
   ]
  },
  {
   "cell_type": "code",
   "execution_count": 8,
   "id": "77696a80-2cc9-4eb2-a7cb-5e9fad31c0b5",
   "metadata": {},
   "outputs": [
    {
     "name": "stdout",
     "output_type": "stream",
     "text": [
      "(19, 21, 23, 47, 87, 94, 29, 99, 19, 21, 23, 47, 87, 94, 29, 99)\n"
     ]
    }
   ],
   "source": [
    "Repe_Tup = t1*2\n",
    "print(Repe_Tup)"
   ]
  },
  {
   "cell_type": "markdown",
   "id": "8864cfa2-4db1-4ef4-bfc3-6644790eb5fc",
   "metadata": {},
   "source": [
    "### Count\n",
    "The 'COUNT' are count the occurrences of a specific element in a tuple using the count() method."
   ]
  },
  {
   "cell_type": "code",
   "execution_count": 9,
   "id": "86bc4f04-f690-43a1-8f94-9cda233b43b8",
   "metadata": {},
   "outputs": [
    {
     "name": "stdout",
     "output_type": "stream",
     "text": [
      "2\n"
     ]
    }
   ],
   "source": [
    "print(Repe_Tup.count(99))"
   ]
  },
  {
   "cell_type": "markdown",
   "id": "371dbc2e-e7e7-4e9c-9332-abf2fb0a23a5",
   "metadata": {},
   "source": [
    "### Sorted\n",
    "The 'SORTED' method takes a tuple as an input and returns a sorted list as an output."
   ]
  },
  {
   "cell_type": "code",
   "execution_count": 10,
   "id": "5bed73d9-a869-4c77-b3ee-7425d5247f4b",
   "metadata": {},
   "outputs": [
    {
     "name": "stdout",
     "output_type": "stream",
     "text": [
      "[19, 19, 21, 21, 23, 23, 29, 29, 47, 47, 87, 87, 94, 94, 99, 99]\n"
     ]
    }
   ],
   "source": [
    "print(sorted(Repe_Tup))"
   ]
  },
  {
   "cell_type": "code",
   "execution_count": null,
   "id": "95c5254b-6789-44d7-9791-a52160b46a81",
   "metadata": {},
   "outputs": [],
   "source": []
  }
 ],
 "metadata": {
  "kernelspec": {
   "display_name": "Python 3 (ipykernel)",
   "language": "python",
   "name": "python3"
  },
  "language_info": {
   "codemirror_mode": {
    "name": "ipython",
    "version": 3
   },
   "file_extension": ".py",
   "mimetype": "text/x-python",
   "name": "python",
   "nbconvert_exporter": "python",
   "pygments_lexer": "ipython3",
   "version": "3.11.7"
  }
 },
 "nbformat": 4,
 "nbformat_minor": 5
}
