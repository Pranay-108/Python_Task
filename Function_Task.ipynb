{
 "cells": [
  {
   "cell_type": "code",
   "execution_count": 15,
   "id": "a889c570-c594-4f13-a731-8fe4dabfdf2e",
   "metadata": {},
   "outputs": [
    {
     "name": "stdout",
     "output_type": "stream",
     "text": [
      "( ' P r a n a y ' ,   ' D e e p a k ' ,   ' R a h a t e ' )\n",
      "({'FirstName': 'Pranay', 'MiddleName': 'Deepak', 'LastName': 'Rahate', 'joinName': 'PranayDeepakRahate'},)\n"
     ]
    }
   ],
   "source": [
    "def dictName(FirstName,MiddleName,LastName):\n",
    "    join_Name = f'{FirstName}{MiddleName}{LastName}'\n",
    "    result1 = {\n",
    "        'FirstName':FirstName,\n",
    "        'MiddleName':MiddleName,\n",
    "        'LastName':LastName,\n",
    "        'joinName':join_Name\n",
    "    }\n",
    "    separator = ' '\n",
    "    result2 = separator.join(f'{FirstName, MiddleName, LastName}')\n",
    "    print(result2)\n",
    "    return result1,\n",
    "    print(result2)\n",
    "\n",
    "\n",
    "FirstName = \"Pranay\"\n",
    "MiddleName = \"Deepak\"\n",
    "LastName = \"Rahate\"\n",
    "Full_Name = dictName(FirstName,MiddleName,LastName)\n",
    "\n",
    "print(Full_Name)"
   ]
  },
  {
   "cell_type": "code",
   "execution_count": null,
   "id": "1c18cbf2-39ea-4d25-8047-00a4e66185cc",
   "metadata": {},
   "outputs": [],
   "source": []
  }
 ],
 "metadata": {
  "kernelspec": {
   "display_name": "Python 3 (ipykernel)",
   "language": "python",
   "name": "python3"
  },
  "language_info": {
   "codemirror_mode": {
    "name": "ipython",
    "version": 3
   },
   "file_extension": ".py",
   "mimetype": "text/x-python",
   "name": "python",
   "nbconvert_exporter": "python",
   "pygments_lexer": "ipython3",
   "version": "3.11.7"
  }
 },
 "nbformat": 4,
 "nbformat_minor": 5
}
