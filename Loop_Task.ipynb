{
 "cells": [
  {
   "cell_type": "markdown",
   "id": "0c1b23fb-3133-4e7c-a2dc-1506d4ef5e23",
   "metadata": {},
   "source": [
    "# Loop\n",
    "In Python, loops are used to execute a block of code repeatedly. There are two main types of loops: the for loop and the while loop."
   ]
  },
  {
   "cell_type": "code",
   "execution_count": 1,
   "id": "a07a698f-1d13-4517-a1e1-928a5a14d91d",
   "metadata": {},
   "outputs": [
    {
     "name": "stdout",
     "output_type": "stream",
     "text": [
      "apple\n",
      "banana\n",
      "cherry\n"
     ]
    }
   ],
   "source": [
    "# For Loop\n",
    "fruits = [\"apple\", \"banana\", \"cherry\"]\n",
    "for fruit in fruits:\n",
    "    print(fruit)"
   ]
  },
  {
   "cell_type": "code",
   "execution_count": 2,
   "id": "0993430f-ae15-4c72-9529-941d19652347",
   "metadata": {},
   "outputs": [
    {
     "name": "stdout",
     "output_type": "stream",
     "text": [
      "Loop iteration number: 0\n",
      "Loop iteration number: 1\n",
      "Loop iteration number: 2\n"
     ]
    }
   ],
   "source": [
    "count = 0\n",
    "while count < 3:\n",
    "    print(\"Loop iteration number:\", count)\n",
    "    count += 1"
   ]
  },
  {
   "cell_type": "markdown",
   "id": "600bcf57-e366-4a6f-848f-68b6c1f83477",
   "metadata": {},
   "source": [
    "### For Loop\n"
   ]
  },
  {
   "cell_type": "code",
   "execution_count": 1,
   "id": "3cae267e-392d-4350-8e49-5d28eebc5753",
   "metadata": {},
   "outputs": [
    {
     "name": "stdout",
     "output_type": "stream",
     "text": [
      "Multiplication table for 1: [1, 2, 3, 4, 5]\n",
      "Multiplication table for 2: [2, 4, 6, 8, 10]\n",
      "Multiplication table for 3: [3, 6, 9, 12, 15]\n",
      "Multiplication table for 4: [4, 8, 12, 16, 20]\n",
      "Multiplication table for 5: [5, 10, 15, 20, 25]\n"
     ]
    }
   ],
   "source": [
    "multiplication_table = {}\n",
    "for i in range(1, 6):\n",
    "    multiplication_table[i] = [i * j for j in range(1, 6)]\n",
    "for num, products in multiplication_table.items():\n",
    "    print(f\"Multiplication table for {num}: {products}\")"
   ]
  },
  {
   "cell_type": "markdown",
   "id": "c20e54f6-fa02-4321-b80a-54dc655c4d43",
   "metadata": {},
   "source": [
    "### Continue Statement\n",
    "With the continue statement we can stop the current iteration of the loop, and continue with the next:"
   ]
  },
  {
   "cell_type": "code",
   "execution_count": 4,
   "id": "f721c6d0-1e1f-40e7-8ac4-49ee61c4969e",
   "metadata": {},
   "outputs": [
    {
     "name": "stdout",
     "output_type": "stream",
     "text": [
      "apple\n",
      "cherry\n"
     ]
    }
   ],
   "source": [
    "\n",
    "fruits = [\"apple\", \"banana\", \"cherry\"]\n",
    "for x in fruits:\n",
    "  if x == \"banana\":\n",
    "    continue\n",
    "  print(x)"
   ]
  },
  {
   "cell_type": "markdown",
   "id": "f07bb7cd-5641-4f88-8977-7e5607af7b04",
   "metadata": {},
   "source": [
    "### Range\n",
    "The range() function returns a sequence of numbers, starting from 0 by default, and increments by 1 (by default), and ends at a specified number."
   ]
  },
  {
   "cell_type": "code",
   "execution_count": 5,
   "id": "f8352df7-9cf8-4a1f-9bc5-367f573df542",
   "metadata": {},
   "outputs": [
    {
     "name": "stdout",
     "output_type": "stream",
     "text": [
      "2\n",
      "4\n",
      "6\n",
      "8\n",
      "10\n",
      "12\n",
      "14\n",
      "16\n",
      "18\n"
     ]
    }
   ],
   "source": [
    "for x in range(2,20,2):\n",
    "  print(x)"
   ]
  },
  {
   "cell_type": "code",
   "execution_count": 6,
   "id": "545dc600-23d4-47cf-8f81-c2f68174f4b5",
   "metadata": {},
   "outputs": [
    {
     "name": "stdout",
     "output_type": "stream",
     "text": [
      "0\n",
      "1\n",
      "2\n",
      "3\n",
      "4\n",
      "5\n",
      "Finally finished!\n"
     ]
    }
   ],
   "source": [
    "for x in range(6):\n",
    "  print(x)\n",
    "else:\n",
    "  print(\"Finally finished!\")"
   ]
  },
  {
   "cell_type": "markdown",
   "id": "7a49ad0a-9231-407c-ae0b-3f2c438d09c9",
   "metadata": {},
   "source": [
    "### Nested Loop\n",
    "A nested loop is a loop inside a loop."
   ]
  },
  {
   "cell_type": "code",
   "execution_count": 7,
   "id": "e08d0d68-94d1-414e-8ae7-655131910ed3",
   "metadata": {},
   "outputs": [
    {
     "name": "stdout",
     "output_type": "stream",
     "text": [
      "red apple\n",
      "red banana\n",
      "red cherry\n",
      "big apple\n",
      "big banana\n",
      "big cherry\n",
      "tasty apple\n",
      "tasty banana\n",
      "tasty cherry\n"
     ]
    }
   ],
   "source": [
    "adj = [\"red\", \"big\", \"tasty\"]\n",
    "fruits = [\"apple\", \"banana\", \"cherry\"]\n",
    "for x in adj:\n",
    "  for y in fruits:\n",
    "    print(x, y)"
   ]
  },
  {
   "cell_type": "code",
   "execution_count": 13,
   "id": "3f89e211-1603-45a9-a46c-4bfa089efa88",
   "metadata": {},
   "outputs": [
    {
     "name": "stdout",
     "output_type": "stream",
     "text": [
      "[{'week': 'monday', 'activity': 'gym'}, {'week': 'tuesday', 'activity': 'swimming'}, {'week': 'wednesday', 'activity': 'yoga'}, {'week': 'thursday', 'activity': 'running'}, {'week': 'friday', 'activity': 'cycling'}, {'week': 'saturday', 'activity': 'hiking'}, {'week': 'sunday', 'activity': 'rest'}]\n"
     ]
    }
   ],
   "source": [
    "week = [\n",
    "    {\"week\": \"monday\", \"activity\": \"gym\"},\n",
    "    {\"week\": \"tuesday\", \"activity\": \"swimming\"},\n",
    "    {\"week\": \"wednesday\", \"activity\": \"yoga\"},\n",
    "    {\"week\": \"thursday\", \"activity\": \"running\"},\n",
    "    {\"week\": \"friday\", \"activity\": \"cycling\"},\n",
    "    {\"week\": \"saturday\", \"activity\": \"hiking\"},\n",
    "    {\"week\": \"sunday\", \"activity\": \"rest\"}\n",
    "]\n",
    "print(week)"
   ]
  },
  {
   "cell_type": "code",
   "execution_count": 14,
   "id": "89d1f118-9a47-4530-8ffc-b3c42f5070cf",
   "metadata": {},
   "outputs": [
    {
     "name": "stdout",
     "output_type": "stream",
     "text": [
      "It is gym\n",
      "Holidays\n",
      "Holidays\n",
      "It is act\n",
      "Holidays\n",
      "Holidays\n",
      "Holidays\n"
     ]
    }
   ],
   "source": [
    "for val in week:\n",
    "    if val['week'] == 'sun':\n",
    "        print(val)\n",
    "    elif val['week'] == 'monday':\n",
    "        print('It is gym')\n",
    "    elif val['week'] == 'mon':\n",
    "        print('It is swimming')\n",
    "    elif val['week'] == 'tue':\n",
    "        print('It is yoga')\n",
    "    elif val['week'] == 'thursday':\n",
    "        print('It is act')\n",
    "    else:\n",
    "        print('Holidays')"
   ]
  },
  {
   "cell_type": "markdown",
   "id": "f2546474-af51-44c3-8738-3b839a0bfff7",
   "metadata": {},
   "source": [
    "### While Loop\n",
    "With the while loop we can execute a set of statements as long as a condition is true."
   ]
  },
  {
   "cell_type": "code",
   "execution_count": 8,
   "id": "b1ec9615-c8bc-4ff9-a563-99f01b12c057",
   "metadata": {},
   "outputs": [
    {
     "name": "stdout",
     "output_type": "stream",
     "text": [
      "1\n",
      "2\n",
      "3\n",
      "4\n",
      "5\n"
     ]
    }
   ],
   "source": [
    "i = 1\n",
    "while i < 6:\n",
    "  print(i)\n",
    "  i += 1"
   ]
  },
  {
   "cell_type": "code",
   "execution_count": 9,
   "id": "2f6e434d-5971-4de2-890c-6f714d659024",
   "metadata": {},
   "outputs": [
    {
     "name": "stdout",
     "output_type": "stream",
     "text": [
      "1\n",
      "2\n",
      "3\n"
     ]
    }
   ],
   "source": [
    "i = 1\n",
    "while i < 6:\n",
    "  print(i)\n",
    "  if i == 3:\n",
    "    break\n",
    "  i += 1"
   ]
  },
  {
   "cell_type": "code",
   "execution_count": 10,
   "id": "c1a9d76a-db00-4cec-93c5-d1826036e9ee",
   "metadata": {},
   "outputs": [
    {
     "name": "stdout",
     "output_type": "stream",
     "text": [
      "1\n",
      "2\n",
      "4\n",
      "5\n",
      "6\n"
     ]
    }
   ],
   "source": [
    "i = 0\n",
    "while i < 6:\n",
    "  i += 1\n",
    "  if i == 3:\n",
    "    continue\n",
    "  print(i)"
   ]
  },
  {
   "cell_type": "code",
   "execution_count": 3,
   "id": "e24fd125-b2bd-4513-a78a-ba917688fe28",
   "metadata": {},
   "outputs": [
    {
     "name": "stdout",
     "output_type": "stream",
     "text": [
      "Prime numbers up to 50: [2, 3, 5, 7, 11, 13, 17, 19, 23, 29, 31, 37, 41, 43, 47]\n"
     ]
    }
   ],
   "source": [
    "def find_primes(max_number):\n",
    "    primes = []\n",
    "    number = 2\n",
    "\n",
    "    while number <= max_number:\n",
    "        is_prime = True\n",
    "        for divisor in range(2, int(number ** 0.5) + 1):\n",
    "            if number % divisor == 0:\n",
    "                is_prime = False\n",
    "                break\n",
    "        if is_prime:\n",
    "            primes.append(number)\n",
    "        number += 1\n",
    "    return primes\n",
    "max_limit = 50\n",
    "prime_numbers = find_primes(max_limit)\n",
    "print(f\"Prime numbers up to {max_limit}: {prime_numbers}\")"
   ]
  },
  {
   "cell_type": "markdown",
   "id": "b0755c27-df88-47d5-b33a-d3ce34bf7b92",
   "metadata": {},
   "source": [
    "### Lambda\n",
    "A lambda function can take any number of arguments, but can only have one expression."
   ]
  },
  {
   "cell_type": "code",
   "execution_count": 15,
   "id": "9f8e2c32-7927-427d-b0f3-11d0adb0673e",
   "metadata": {},
   "outputs": [
    {
     "name": "stdout",
     "output_type": "stream",
     "text": [
      "[4, 16, 36, 64, 100]\n"
     ]
    }
   ],
   "source": [
    "transform = lambda numbers: [x**2 for x in filter(lambda y: y % 2 == 0, numbers)]\n",
    "numbers_list = [1, 2, 3, 4, 5, 6, 7, 8, 9, 10]\n",
    "result = transform(numbers_list)\n",
    "print(result)"
   ]
  },
  {
   "cell_type": "markdown",
   "id": "f4a95d0a-b00b-4af6-9791-9f561fb8e1b4",
   "metadata": {},
   "source": [
    "### Map Function\n",
    "The map function in Python is used to apply a given function to each item of an iterable (like a list or tuple) and return a map object, which is an iterator."
   ]
  },
  {
   "cell_type": "code",
   "execution_count": 16,
   "id": "482f7af7-d091-4c94-8237-fde51ba607f8",
   "metadata": {},
   "outputs": [
    {
     "name": "stdout",
     "output_type": "stream",
     "text": [
      "[{'name': 'Alice', 'age': 30, 'city': 'New York'}, {'name': 'Bob', 'age': 25, 'city': 'Los Angeles'}, {'name': 'Charlie', 'age': 35, 'city': 'Chicago'}, {'name': 'David', 'age': 28, 'city': 'New York'}, {'name': 'Eve', 'age': 22, 'city': 'Los Angeles'}]\n"
     ]
    }
   ],
   "source": [
    "student = [\n",
    "    {\"name\": \"Alice\", \"age\": 30, \"city\": \"New York\"},\n",
    "    {\"name\": \"Bob\", \"age\": 25, \"city\": \"Los Angeles\"},\n",
    "    {\"name\": \"Charlie\", \"age\": 35, \"city\": \"Chicago\"},\n",
    "    {\"name\": \"David\", \"age\": 28, \"city\": \"New York\"},\n",
    "    {\"name\": \"Eve\", \"age\": 22, \"city\": \"Los Angeles\"}\n",
    "]\n",
    "print(student)"
   ]
  },
  {
   "cell_type": "code",
   "execution_count": 17,
   "id": "6c268108-c450-41d6-a264-67d2ee8d28d0",
   "metadata": {},
   "outputs": [
    {
     "name": "stdout",
     "output_type": "stream",
     "text": [
      "['ALICE', 'BOB', 'CHARLIE', 'DAVID', 'EVE']\n",
      "['new york', 'los angeles', 'chicago', 'new york', 'los angeles']\n"
     ]
    }
   ],
   "source": [
    "up = list(map(lambda person: person['name'].upper(), student))\n",
    "print(up)\n",
    "lp = list(map(lambda person: person['city'].lower(), student))\n",
    "print(lp)"
   ]
  },
  {
   "cell_type": "markdown",
   "id": "82ff269b-de0e-4078-901c-5151c7524803",
   "metadata": {},
   "source": [
    "### Filter Function\n",
    "The filter() function in Python is used to create an iterator from elements of an iterable for which a function returns true. In other words, it filters out the items that do not satisfy a given condition"
   ]
  },
  {
   "cell_type": "code",
   "execution_count": 19,
   "id": "a67953d8-8427-413b-a6b6-6e2f1432af91",
   "metadata": {},
   "outputs": [
    {
     "name": "stdout",
     "output_type": "stream",
     "text": [
      "[{'name': 'Alice', 'age': 30, 'city': 'New York'}, {'name': 'Charlie', 'age': 35, 'city': 'Chicago'}]\n",
      "\n",
      "[{'name': 'Alice', 'age': 30, 'city': 'New York'}, {'name': 'David', 'age': 28, 'city': 'New York'}]\n"
     ]
    }
   ],
   "source": [
    "op = list(filter(lambda person: person['age'] >= 30, student))\n",
    "print(op)\n",
    "print()\n",
    "c1 = list(filter(lambda person: person['city'] == 'New York', student))\n",
    "print(c1)"
   ]
  },
  {
   "cell_type": "code",
   "execution_count": null,
   "id": "47cabe73-f5f7-40f6-bad7-f8f419e62b0b",
   "metadata": {},
   "outputs": [],
   "source": []
  }
 ],
 "metadata": {
  "kernelspec": {
   "display_name": "Python 3 (ipykernel)",
   "language": "python",
   "name": "python3"
  },
  "language_info": {
   "codemirror_mode": {
    "name": "ipython",
    "version": 3
   },
   "file_extension": ".py",
   "mimetype": "text/x-python",
   "name": "python",
   "nbconvert_exporter": "python",
   "pygments_lexer": "ipython3",
   "version": "3.11.7"
  }
 },
 "nbformat": 4,
 "nbformat_minor": 5
}
