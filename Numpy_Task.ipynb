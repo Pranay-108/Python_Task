{
 "cells": [
  {
   "cell_type": "markdown",
   "id": "5cfb3585-c613-4c8f-b074-51fc12083b7f",
   "metadata": {},
   "source": [
    "# NumPy\n",
    "NumPy is a fundamental package for scientific computing in Python. It provides support for large, multi-dimensional arrays and matrices, along with a vast collection of high-level mathematical functions to operate on these arrays."
   ]
  },
  {
   "cell_type": "code",
   "execution_count": 1,
   "id": "9d4c0dc6-56e7-4abc-a681-fa1d61b37025",
   "metadata": {},
   "outputs": [],
   "source": [
    "import numpy as np"
   ]
  },
  {
   "cell_type": "code",
   "execution_count": 2,
   "id": "da511581-5aca-4b77-8e6b-d6d026557be7",
   "metadata": {},
   "outputs": [
    {
     "name": "stdout",
     "output_type": "stream",
     "text": [
      "Array with Rank 1:\n",
      " [1 2 3]\n",
      "After adding 5 to each element:\n",
      " [6 7 8]\n"
     ]
    }
   ],
   "source": [
    "A1 = np.array([1, 2, 3])\n",
    "print(\"Array with Rank 1:\\n\", A1)\n",
    "result = A1 + 5\n",
    "print(\"After adding 5 to each element:\\n\", result)"
   ]
  },
  {
   "cell_type": "code",
   "execution_count": 14,
   "id": "b73c47a3-a828-4e43-ac5a-d8636a3c0253",
   "metadata": {},
   "outputs": [
    {
     "name": "stdout",
     "output_type": "stream",
     "text": [
      "[1 3 5 7 9]\n"
     ]
    }
   ],
   "source": [
    "# Range \n",
    "A2 = np.arange(1, 10, 2)\n",
    "print(A2)"
   ]
  },
  {
   "cell_type": "code",
   "execution_count": 15,
   "id": "0f1da1fb-e24a-4ac7-a986-0595f0ed876b",
   "metadata": {},
   "outputs": [
    {
     "name": "stdout",
     "output_type": "stream",
     "text": [
      "[5.         5.07142857 5.14285714 5.21428571 5.28571429 5.35714286\n",
      " 5.42857143 5.5        5.57142857 5.64285714 5.71428571 5.78571429\n",
      " 5.85714286 5.92857143 6.        ]\n"
     ]
    }
   ],
   "source": [
    "# linspace\n",
    "A3 = np.linspace(5, 6, 15)\n",
    "print(A3)"
   ]
  },
  {
   "cell_type": "code",
   "execution_count": 16,
   "id": "cec02b63-84d6-42ab-86df-e737c0bb3003",
   "metadata": {},
   "outputs": [
    {
     "name": "stdout",
     "output_type": "stream",
     "text": [
      "[[0. 0. 0.]\n",
      " [0. 0. 0.]\n",
      " [0. 0. 0.]]\n"
     ]
    }
   ],
   "source": [
    "# zeros\n",
    "A4 = np.zeros((3, 3))\n",
    "print(A4)"
   ]
  },
  {
   "cell_type": "code",
   "execution_count": 17,
   "id": "8c570880-065d-4c10-86e6-d70e665f06d5",
   "metadata": {},
   "outputs": [
    {
     "name": "stdout",
     "output_type": "stream",
     "text": [
      "[[1. 1. 1.]\n",
      " [1. 1. 1.]]\n"
     ]
    }
   ],
   "source": [
    "A5 = np.ones((2, 3))\n",
    "print(A5)"
   ]
  },
  {
   "cell_type": "code",
   "execution_count": 18,
   "id": "8337be64-93f8-49cc-8f3e-1fdef9c2c973",
   "metadata": {},
   "outputs": [
    {
     "name": "stdout",
     "output_type": "stream",
     "text": [
      "[[1. 0. 0. 0.]\n",
      " [0. 1. 0. 0.]\n",
      " [0. 0. 1. 0.]\n",
      " [0. 0. 0. 1.]]\n"
     ]
    }
   ],
   "source": [
    "A6 = np.eye(4)\n",
    "print(A6) "
   ]
  },
  {
   "cell_type": "code",
   "execution_count": 19,
   "id": "a3467c6e-f42b-47c3-96fa-cb3d83db9100",
   "metadata": {},
   "outputs": [
    {
     "name": "stdout",
     "output_type": "stream",
     "text": [
      "[[0.78880602 0.25215554 0.19810909]\n",
      " [0.97559176 0.59197697 0.70433143]]\n"
     ]
    }
   ],
   "source": [
    "# random\n",
    "A7 = np.random.rand(2, 3)\n",
    "print(A7)"
   ]
  },
  {
   "cell_type": "code",
   "execution_count": 20,
   "id": "fddb1048-6aeb-4290-a89a-91eb0dfe8516",
   "metadata": {},
   "outputs": [
    {
     "name": "stdout",
     "output_type": "stream",
     "text": [
      "15\n"
     ]
    }
   ],
   "source": [
    "A8 = np.array([1, 2, 3, 4, 5])\n",
    "print(np.sum(A8))"
   ]
  },
  {
   "cell_type": "code",
   "execution_count": 26,
   "id": "2a65fd25-3454-42fd-8ca8-fcd903162ba1",
   "metadata": {},
   "outputs": [
    {
     "name": "stdout",
     "output_type": "stream",
     "text": [
      "[[1 2]\n",
      " [3 4]]\n",
      "2.5\n"
     ]
    }
   ],
   "source": [
    "A9 = np.array([[1, 2], [3, 4]])\n",
    "print(A9)\n",
    "print(np.mean(A9))"
   ]
  },
  {
   "cell_type": "code",
   "execution_count": 24,
   "id": "ee5932d5-63b7-4183-96cf-5cd3dacfac28",
   "metadata": {},
   "outputs": [
    {
     "data": {
      "text/plain": [
       "array([[1, 2],\n",
       "       [3, 4],\n",
       "       [1, 2],\n",
       "       [3, 4]])"
      ]
     },
     "execution_count": 24,
     "metadata": {},
     "output_type": "execute_result"
    }
   ],
   "source": [
    "# concatenate\n",
    "concatenated_arr = np.concatenate((A9, A9))\n",
    "concatenated_arr"
   ]
  },
  {
   "cell_type": "code",
   "execution_count": 27,
   "id": "e7d4e549-ae60-4000-b27e-3d481dd9d037",
   "metadata": {},
   "outputs": [
    {
     "data": {
      "text/plain": [
       "array([[1, 3],\n",
       "       [2, 4]])"
      ]
     },
     "execution_count": 27,
     "metadata": {},
     "output_type": "execute_result"
    }
   ],
   "source": [
    "transposed_arr = A9.transpose()\n",
    "transposed_arr"
   ]
  },
  {
   "cell_type": "code",
   "execution_count": 28,
   "id": "d28388f9-4522-4fa3-8c74-715a0a35e576",
   "metadata": {},
   "outputs": [
    {
     "data": {
      "text/plain": [
       "1"
      ]
     },
     "execution_count": 28,
     "metadata": {},
     "output_type": "execute_result"
    }
   ],
   "source": [
    "arr_min = np.min(A9)\n",
    "arr_min"
   ]
  },
  {
   "cell_type": "code",
   "execution_count": 30,
   "id": "db6512d1-8f93-4679-ba31-f2302ce48489",
   "metadata": {},
   "outputs": [
    {
     "data": {
      "text/plain": [
       "4"
      ]
     },
     "execution_count": 30,
     "metadata": {},
     "output_type": "execute_result"
    }
   ],
   "source": [
    "# max\n",
    "arr_max = np.max(A9)\n",
    "arr_max"
   ]
  },
  {
   "cell_type": "code",
   "execution_count": 29,
   "id": "2c1ac376-ad6f-43fc-9cee-8d7a01e90e1a",
   "metadata": {},
   "outputs": [
    {
     "data": {
      "text/plain": [
       "10"
      ]
     },
     "execution_count": 29,
     "metadata": {},
     "output_type": "execute_result"
    }
   ],
   "source": [
    "# sum\n",
    "arr_sum  = np.sum(A9)\n",
    "arr_sum"
   ]
  },
  {
   "cell_type": "code",
   "execution_count": 31,
   "id": "213162da-4647-408f-8c86-17deea95f6ff",
   "metadata": {},
   "outputs": [
    {
     "data": {
      "text/plain": [
       "array([[ 7, 10],\n",
       "       [15, 22]])"
      ]
     },
     "execution_count": 31,
     "metadata": {},
     "output_type": "execute_result"
    }
   ],
   "source": [
    "dot_product = np.dot(A9, A9)\n",
    "dot_product"
   ]
  },
  {
   "cell_type": "code",
   "execution_count": 32,
   "id": "1f08f1b0-1243-4726-94db-716b1e125b5b",
   "metadata": {},
   "outputs": [
    {
     "name": "stdout",
     "output_type": "stream",
     "text": [
      "[3 2 1 0 1 2 3]\n"
     ]
    }
   ],
   "source": [
    "# absolute\n",
    "array = np.array([-3, -2, -1, 0, 1, 2, 3])\n",
    "absolute_array = np.abs(array)\n",
    "print(absolute_array)"
   ]
  },
  {
   "cell_type": "code",
   "execution_count": 34,
   "id": "ba22fa84-0c11-4230-b3b1-65d16f9b0fa9",
   "metadata": {},
   "outputs": [
    {
     "data": {
      "text/plain": [
       "3.1622776601683795"
      ]
     },
     "execution_count": 34,
     "metadata": {},
     "output_type": "execute_result"
    }
   ],
   "source": [
    "# sqrt\n",
    "square_root = np.sqrt(10)\n",
    "square_root"
   ]
  },
  {
   "cell_type": "code",
   "execution_count": 36,
   "id": "08f2ff92-4caf-4a92-bef7-0e6ab857c13c",
   "metadata": {},
   "outputs": [
    {
     "data": {
      "text/plain": [
       "5.184705528587072e+21"
      ]
     },
     "execution_count": 36,
     "metadata": {},
     "output_type": "execute_result"
    }
   ],
   "source": [
    "# exponent\n",
    "exponential_values = np.exp(50)\n",
    "exponential_values"
   ]
  },
  {
   "cell_type": "code",
   "execution_count": 37,
   "id": "3b2e6c8c-5000-437f-84eb-a910e2c28b1f",
   "metadata": {},
   "outputs": [
    {
     "name": "stdout",
     "output_type": "stream",
     "text": [
      "50th percentile of arr: 7.0\n",
      "25th percentile of arr: 2.0\n",
      "75th percentile of arr: 20.0\n"
     ]
    }
   ],
   "source": [
    "# percentile\n",
    "arr = [20, 2, 7, 1, 34]\n",
    "print(\"50th percentile of arr:\", np.percentile(arr, 50))\n",
    "print(\"25th percentile of arr:\", np.percentile(arr, 25))\n",
    "print(\"75th percentile of arr:\", np.percentile(arr, 75))"
   ]
  },
  {
   "cell_type": "code",
   "execution_count": 42,
   "id": "270d9c6d-197d-4147-b50b-887dfbb19cd8",
   "metadata": {},
   "outputs": [
    {
     "data": {
      "text/plain": [
       "1.6666666666666667"
      ]
     },
     "execution_count": 42,
     "metadata": {},
     "output_type": "execute_result"
    }
   ],
   "source": [
    "# division\n",
    "div = np.divide(25, 15)\n",
    "div"
   ]
  },
  {
   "cell_type": "code",
   "execution_count": 43,
   "id": "5782c965-4bd4-4f7b-9f99-d3f5e50b367f",
   "metadata": {},
   "outputs": [
    {
     "data": {
      "text/plain": [
       "-19"
      ]
     },
     "execution_count": 43,
     "metadata": {},
     "output_type": "execute_result"
    }
   ],
   "source": [
    "# subtraction\n",
    "sub = np.subtract(-24, -5)\n",
    "sub"
   ]
  },
  {
   "cell_type": "code",
   "execution_count": null,
   "id": "e882fb5b-7d68-4af1-afaa-e1eb97ebd655",
   "metadata": {},
   "outputs": [],
   "source": []
  }
 ],
 "metadata": {
  "kernelspec": {
   "display_name": "Python 3 (ipykernel)",
   "language": "python",
   "name": "python3"
  },
  "language_info": {
   "codemirror_mode": {
    "name": "ipython",
    "version": 3
   },
   "file_extension": ".py",
   "mimetype": "text/x-python",
   "name": "python",
   "nbconvert_exporter": "python",
   "pygments_lexer": "ipython3",
   "version": "3.11.7"
  }
 },
 "nbformat": 4,
 "nbformat_minor": 5
}
