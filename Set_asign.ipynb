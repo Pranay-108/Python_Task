{
 "cells": [
  {
   "cell_type": "markdown",
   "id": "ab508258-a4b7-4847-b5c2-2fadb0011316",
   "metadata": {},
   "source": [
    "# Set"
   ]
  },
  {
   "cell_type": "markdown",
   "id": "7242dced-fee8-42ee-a949-e7f5b743d7b3",
   "metadata": {},
   "source": [
    "In Python, a set is a built-in data type that represents a collection of unique elements. Sets are unordered, meaning that the items do not have a defined order, and they cannot contain duplicate values."
   ]
  },
  {
   "cell_type": "code",
   "execution_count": 2,
   "id": "594ce3eb-c752-4eeb-ac6d-4af699496735",
   "metadata": {},
   "outputs": [
    {
     "name": "stdout",
     "output_type": "stream",
     "text": [
      "<class 'set'>\n",
      "{1, 2, 3, 4, 5, 6, 7, 8, 9}\n"
     ]
    }
   ],
   "source": [
    "S1 = {1,2,3,4,5,6,7,8,9}\n",
    "print(type(Set))\n",
    "print(Set)"
   ]
  },
  {
   "cell_type": "markdown",
   "id": "2f928b66-0d50-483b-97f1-1bb459b9a591",
   "metadata": {},
   "source": [
    "## Equal (==)\n",
    "The eq function is use to compair the sets."
   ]
  },
  {
   "cell_type": "code",
   "execution_count": 3,
   "id": "d62db7b4-8181-4fb4-a1b4-107646cecc76",
   "metadata": {},
   "outputs": [
    {
     "data": {
      "text/plain": [
       "True"
      ]
     },
     "execution_count": 3,
     "metadata": {},
     "output_type": "execute_result"
    }
   ],
   "source": [
    "S2 = {1,2,3,4,5,6,7,8,9}\n",
    "\n",
    "S2 == S1"
   ]
  },
  {
   "cell_type": "code",
   "execution_count": 4,
   "id": "2c35be5c-4e72-464c-9bb3-a9baf343945b",
   "metadata": {},
   "outputs": [
    {
     "data": {
      "text/plain": [
       "False"
      ]
     },
     "execution_count": 4,
     "metadata": {},
     "output_type": "execute_result"
    }
   ],
   "source": [
    "S3 = {1,2,3,4,5,6,7,8}\n",
    "S2 ==S3"
   ]
  },
  {
   "cell_type": "markdown",
   "id": "64104a3e-3def-4f9e-9e05-ce995d5f53f1",
   "metadata": {},
   "source": [
    "## Addition (+)\n",
    "The add fuction is use to add elements in sets."
   ]
  },
  {
   "cell_type": "code",
   "execution_count": 5,
   "id": "374b4324-13b8-4f96-8aef-fd62e25d5a54",
   "metadata": {},
   "outputs": [
    {
     "name": "stdout",
     "output_type": "stream",
     "text": [
      "{1, 2, 3, 4, 5, 6, 7, 8, 9}\n"
     ]
    }
   ],
   "source": [
    "S3.add(9)\n",
    "print(S3)"
   ]
  },
  {
   "cell_type": "markdown",
   "id": "596e8bf6-7a6e-481f-bca4-b4938b7dd449",
   "metadata": {},
   "source": [
    "## Clear\n",
    "The clear function is ude to remove all element from the set."
   ]
  },
  {
   "cell_type": "code",
   "execution_count": 6,
   "id": "9e829315-2b37-4d4b-8c98-a7933fe27e18",
   "metadata": {},
   "outputs": [
    {
     "name": "stdout",
     "output_type": "stream",
     "text": [
      "set()\n"
     ]
    }
   ],
   "source": [
    "S3.clear()\n",
    "print(S3)"
   ]
  },
  {
   "cell_type": "markdown",
   "id": "ac7728b6-2051-4efd-b432-c099d30b89aa",
   "metadata": {},
   "source": [
    "## Copy\n",
    "The copy function use to capy the set."
   ]
  },
  {
   "cell_type": "code",
   "execution_count": 7,
   "id": "21015c12-f112-4527-8fc1-24bc4bdf26c9",
   "metadata": {},
   "outputs": [
    {
     "name": "stdout",
     "output_type": "stream",
     "text": [
      "{'C', 'D', 'B', 'A'}\n",
      "{'C', 'D', 'B', 'A'}\n"
     ]
    }
   ],
   "source": [
    "S4 = {'A','B','C','D'}\n",
    "print(S4)\n",
    "S5 = S4.copy()\n",
    "print(S5)"
   ]
  },
  {
   "cell_type": "markdown",
   "id": "343dd2b2-fd7a-48d8-89af-1f78da6c944a",
   "metadata": {},
   "source": [
    "## difference\n",
    "The difference function is use to calculte the diffrece between sets. it represent the only first set."
   ]
  },
  {
   "cell_type": "code",
   "execution_count": 14,
   "id": "5e5f6645-d7a6-4a5b-9e1e-30587f8a1592",
   "metadata": {},
   "outputs": [
    {
     "name": "stdout",
     "output_type": "stream",
     "text": [
      "{1, 3, 5, 7}\n"
     ]
    }
   ],
   "source": [
    "S6 = {1,2,3,4,5,6,7,8}\n",
    "S7 = {2,4,6,8}\n",
    "difference1 = S6.difference(S7)\n",
    "print(difference)"
   ]
  },
  {
   "cell_type": "markdown",
   "id": "0713c7d1-f1c9-4a28-b7b7-28dd6beb39e7",
   "metadata": {},
   "source": [
    "## difference_update\n",
    "The difference_update is use to remove the element that are already present in another set."
   ]
  },
  {
   "cell_type": "code",
   "execution_count": 10,
   "id": "8a7f2b18-cf12-449f-b126-bedbe7962fb1",
   "metadata": {},
   "outputs": [
    {
     "name": "stdout",
     "output_type": "stream",
     "text": [
      "{'C', 'A'}\n"
     ]
    }
   ],
   "source": [
    "S8 = {'A','B','C','D'}\n",
    "S9 = {'a','B','c','D'}\n",
    "S8.difference_update(S9)\n",
    "print(S8)"
   ]
  },
  {
   "cell_type": "markdown",
   "id": "e9e4212d-d2f8-4019-8d27-f7f3713843ed",
   "metadata": {},
   "source": [
    "## discard\n",
    "The discard function is use remove element of the set."
   ]
  },
  {
   "cell_type": "code",
   "execution_count": 15,
   "id": "fefb0d0a-931a-47c3-a33f-bfb329308ee2",
   "metadata": {},
   "outputs": [
    {
     "name": "stdout",
     "output_type": "stream",
     "text": [
      "{1, 2, 3, 4, 5, 6, 7}\n"
     ]
    }
   ],
   "source": [
    "S6.discard(8)\n",
    "print(S6)"
   ]
  },
  {
   "cell_type": "markdown",
   "id": "5cd48b18-2e57-413d-a0e6-2e78eaea57be",
   "metadata": {},
   "source": [
    "## Intersection\n",
    "Return the intersection of two sets as a new set.n"
   ]
  },
  {
   "cell_type": "code",
   "execution_count": 17,
   "id": "1a1afec8-a0ed-44c2-848d-5bcd31f9c9b1",
   "metadata": {},
   "outputs": [
    {
     "data": {
      "text/plain": [
       "{2, 4, 6, 8, 10}"
      ]
     },
     "execution_count": 17,
     "metadata": {},
     "output_type": "execute_result"
    }
   ],
   "source": [
    "\n",
    "S10 = {1,2,3,4,5,6,7,8,9,10}\n",
    "S11 = {2,4,6,8,10,12}\n",
    "S10.intersection(S11)"
   ]
  },
  {
   "cell_type": "markdown",
   "id": "6f3aac7d-cc47-45fb-b691-e2d111673709",
   "metadata": {},
   "source": [
    "## Intersection_Update\n",
    "The intersection_update is use to remove the element that are not present in another set.e"
   ]
  },
  {
   "cell_type": "code",
   "execution_count": 19,
   "id": "329d52b4-66ed-4cf3-8045-43a4f9109a23",
   "metadata": {},
   "outputs": [
    {
     "data": {
      "text/plain": [
       "{'C', 'D'}"
      ]
     },
     "execution_count": 19,
     "metadata": {},
     "output_type": "execute_result"
    }
   ],
   "source": [
    "S12 = {'a','b','C','D'}\n",
    "S13 = {'A','D','B','C'}\n",
    "S12.intersection_update(S13)\n",
    "S12"
   ]
  },
  {
   "cell_type": "markdown",
   "id": "97cfb7aa-20b8-45c4-9f60-ac8eac739cb0",
   "metadata": {},
   "source": [
    "## Pop\n",
    "It Removes and returns an arbitrary element from the set."
   ]
  },
  {
   "cell_type": "code",
   "execution_count": 25,
   "id": "f78428f2-1ef0-45aa-bba9-bf4d5e9c01d7",
   "metadata": {},
   "outputs": [
    {
     "data": {
      "text/plain": [
       "{11, 22, 44, 55, 77, 88, 99}"
      ]
     },
     "execution_count": 25,
     "metadata": {},
     "output_type": "execute_result"
    }
   ],
   "source": [
    "S14 = {11,22,44,55,66,77,88,99}\n",
    "S14.pop()\n",
    "S14"
   ]
  },
  {
   "cell_type": "markdown",
   "id": "aaf0cf86-2357-4721-b462-1e8b1e79f2be",
   "metadata": {},
   "source": [
    "## Union\n",
    "Return the union of sets as a new set."
   ]
  },
  {
   "cell_type": "code",
   "execution_count": 26,
   "id": "8265223e-57c3-49bd-85cd-0be4ff147857",
   "metadata": {},
   "outputs": [
    {
     "data": {
      "text/plain": [
       "{1, 2, 3, 4, 5, 6, 8, 10}"
      ]
     },
     "execution_count": 26,
     "metadata": {},
     "output_type": "execute_result"
    }
   ],
   "source": [
    "\n",
    "S18 = {2,4,6,8,10}\n",
    "S19 = {1,2,3,4,5,6}\n",
    "S18.union(S19)"
   ]
  },
  {
   "cell_type": "code",
   "execution_count": null,
   "id": "bbd265f5-feff-4d91-887c-b10ea3c6bcd0",
   "metadata": {},
   "outputs": [],
   "source": []
  }
 ],
 "metadata": {
  "kernelspec": {
   "display_name": "Python 3 (ipykernel)",
   "language": "python",
   "name": "python3"
  },
  "language_info": {
   "codemirror_mode": {
    "name": "ipython",
    "version": 3
   },
   "file_extension": ".py",
   "mimetype": "text/x-python",
   "name": "python",
   "nbconvert_exporter": "python",
   "pygments_lexer": "ipython3",
   "version": "3.11.7"
  }
 },
 "nbformat": 4,
 "nbformat_minor": 5
}
