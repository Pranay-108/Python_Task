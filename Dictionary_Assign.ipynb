{
 "cells": [
  {
   "cell_type": "markdown",
   "id": "09c67dbd-8610-4b35-bcd7-3878546c2d97",
   "metadata": {},
   "source": [
    "# Dictionary \n",
    "In Python, a dictionary is a collection of key-value pairs, where each key is unique and is associated with a value. Dictionaries are created using curly braces {} with keys and values separated by colons"
   ]
  },
  {
   "cell_type": "code",
   "execution_count": 2,
   "id": "1eb87c7f-f976-46f1-8149-07256b7d83c4",
   "metadata": {},
   "outputs": [
    {
     "name": "stdout",
     "output_type": "stream",
     "text": [
      "{'Germany': 'Berlin', 'Canada': 'Ottawa', 'England': 'London'}\n",
      "<class 'dict'>\n",
      "Berlin\n"
     ]
    }
   ],
   "source": [
    "country_capitals = {\n",
    "    \"Germany\": \"Berlin\",\n",
    "    \"Canada\": \"Ottawa\",\n",
    "    \"England\": \"London\"\n",
    "}\n",
    "print(country_capitals)\n",
    "print(type(country_capitals))\n",
    "print(country_capitals[\"Germany\"])"
   ]
  },
  {
   "cell_type": "code",
   "execution_count": 3,
   "id": "3b8dff7d-d8f1-465e-8bec-a8e5da341e73",
   "metadata": {},
   "outputs": [
    {
     "name": "stdout",
     "output_type": "stream",
     "text": [
      "Ottawa\n"
     ]
    }
   ],
   "source": [
    "F = country_capitals[\"Canada\"]\n",
    "print(F)"
   ]
  },
  {
   "cell_type": "markdown",
   "id": "77a127ca-f9a5-48a0-90c6-66c60945c22d",
   "metadata": {},
   "source": [
    "### Keys()\n",
    "It Returns the list of keys in the dictionary object."
   ]
  },
  {
   "cell_type": "code",
   "execution_count": 4,
   "id": "03701966-dc80-4b99-9522-099a80043070",
   "metadata": {},
   "outputs": [
    {
     "data": {
      "text/plain": [
       "dict_keys(['Germany', 'Canada', 'England'])"
      ]
     },
     "execution_count": 4,
     "metadata": {},
     "output_type": "execute_result"
    }
   ],
   "source": [
    "country_capitals.keys()"
   ]
  },
  {
   "cell_type": "markdown",
   "id": "6963f374-253f-45dd-929d-96e03e9223c8",
   "metadata": {},
   "source": [
    "### Values()\n",
    "This method returns the list of values in the dictionary object."
   ]
  },
  {
   "cell_type": "code",
   "execution_count": 5,
   "id": "2d38e3da-5b90-4f00-ad98-0c706527e197",
   "metadata": {},
   "outputs": [
    {
     "data": {
      "text/plain": [
       "dict_values(['Berlin', 'Ottawa', 'London'])"
      ]
     },
     "execution_count": 5,
     "metadata": {},
     "output_type": "execute_result"
    }
   ],
   "source": [
    "country_capitals.values()"
   ]
  },
  {
   "cell_type": "markdown",
   "id": "9ee41c34-25c6-4d03-824c-eb022ed9ce00",
   "metadata": {},
   "source": [
    "### Items()\n",
    "This method returns the list of the keys and values."
   ]
  },
  {
   "cell_type": "code",
   "execution_count": 6,
   "id": "39cb8d5a-0753-41bc-8cab-3fa1ca076c19",
   "metadata": {},
   "outputs": [
    {
     "name": "stdout",
     "output_type": "stream",
     "text": [
      "('name', 'Alice')\n",
      "('age', 25)\n",
      "('city', 'Wonderland')\n"
     ]
    }
   ],
   "source": [
    "my_dict = {\n",
    "    'name': 'Alice',\n",
    "    'age': 25,\n",
    "    'city': 'Wonderland'\n",
    "}\n",
    "items_view = my_dict.items()\n",
    "for item in items_view:\n",
    "    print(item)"
   ]
  },
  {
   "cell_type": "markdown",
   "id": "63e217de-05d6-4f69-be98-7912ab10bc5f",
   "metadata": {},
   "source": [
    "### Get()\n",
    "This method takes the key as an argument."
   ]
  },
  {
   "cell_type": "code",
   "execution_count": 7,
   "id": "c5e59fa0-2660-4772-a9eb-2fd69789039a",
   "metadata": {},
   "outputs": [
    {
     "data": {
      "text/plain": [
       "'Wonderland'"
      ]
     },
     "execution_count": 7,
     "metadata": {},
     "output_type": "execute_result"
    }
   ],
   "source": [
    "my_dict.get('city')"
   ]
  },
  {
   "cell_type": "markdown",
   "id": "d3395785-69d1-43ff-8530-cab90db5db2e",
   "metadata": {},
   "source": [
    "### Len()\n",
    "This method returns length of the Dictionary"
   ]
  },
  {
   "cell_type": "code",
   "execution_count": 8,
   "id": "9cde9894-eaa2-4179-bf4c-9d35df6604da",
   "metadata": {},
   "outputs": [
    {
     "data": {
      "text/plain": [
       "4"
      ]
     },
     "execution_count": 8,
     "metadata": {},
     "output_type": "execute_result"
    }
   ],
   "source": [
    "dict_2 = {'Name':'Raju','Skills':['Python','PowerBi','SQL','Machine Learning'],'Year':[2023],'Result':'Pass'}\n",
    "len(dict_2.keys())"
   ]
  },
  {
   "cell_type": "markdown",
   "id": "f012ad4b-0ef8-4fd9-86e2-dbcfec64eb86",
   "metadata": {},
   "source": [
    "### Update()\n",
    "By using this method we can add an element which is a key-value pair."
   ]
  },
  {
   "cell_type": "code",
   "execution_count": 9,
   "id": "76f7f760-0197-4abb-b441-15d13309ba80",
   "metadata": {},
   "outputs": [
    {
     "data": {
      "text/plain": [
       "{'Name': 'Raju',\n",
       " 'Skills': ['Python', 'PowerBi', 'SQL', 'Machine Learning'],\n",
       " 'Year': [2023],\n",
       " 'Result': 'Pass',\n",
       " 'Course': 'Data Analytics'}"
      ]
     },
     "execution_count": 9,
     "metadata": {},
     "output_type": "execute_result"
    }
   ],
   "source": [
    "dict_2.update({'Course':'Data Analytics'})\n",
    "dict_2"
   ]
  },
  {
   "cell_type": "markdown",
   "id": "fcbfb76f-6913-4139-ac34-430286694076",
   "metadata": {},
   "source": [
    "### Pop\n",
    "It removes and returns an element from a dictionary having the given key."
   ]
  },
  {
   "cell_type": "code",
   "execution_count": 11,
   "id": "e7c84d02-bd76-4842-b07b-55c01f44b3bf",
   "metadata": {},
   "outputs": [
    {
     "data": {
      "text/plain": [
       "'Berlin'"
      ]
     },
     "execution_count": 11,
     "metadata": {},
     "output_type": "execute_result"
    }
   ],
   "source": [
    "country_capitals.pop('Germany')"
   ]
  },
  {
   "cell_type": "code",
   "execution_count": 12,
   "id": "0962708f-bf58-4daf-9f38-a76f52c2ac5a",
   "metadata": {},
   "outputs": [
    {
     "data": {
      "text/plain": [
       "{'Canada': 'Ottawa', 'England': 'London'}"
      ]
     },
     "execution_count": 12,
     "metadata": {},
     "output_type": "execute_result"
    }
   ],
   "source": [
    "country_capitals"
   ]
  },
  {
   "cell_type": "markdown",
   "id": "2a56af48-7623-4268-8d61-e32edc2c447c",
   "metadata": {},
   "source": [
    "### Copy()\n",
    "It use to Make copy of a dictionary with the copy() method."
   ]
  },
  {
   "cell_type": "code",
   "execution_count": 13,
   "id": "88a0a31b-24c7-430d-b69d-fd1d6c4e385c",
   "metadata": {},
   "outputs": [
    {
     "data": {
      "text/plain": [
       "{'Name': 'Raju',\n",
       " 'Skills': ['Python', 'PowerBi', 'SQL', 'Machine Learning'],\n",
       " 'Year': [2023],\n",
       " 'Result': 'Pass',\n",
       " 'Course': 'Data Analytics'}"
      ]
     },
     "execution_count": 13,
     "metadata": {},
     "output_type": "execute_result"
    }
   ],
   "source": [
    "D4 = dict_2.copy()\n",
    "D4"
   ]
  },
  {
   "cell_type": "markdown",
   "id": "0ea9a5f9-627a-4b7a-b31f-d4af5ad2495a",
   "metadata": {},
   "source": [
    "### Clear()\n",
    "The clear() method removes all the element from a dictionary"
   ]
  },
  {
   "cell_type": "code",
   "execution_count": 15,
   "id": "0f38b866-f9b0-4276-acaa-d4d401d624a3",
   "metadata": {},
   "outputs": [
    {
     "data": {
      "text/plain": [
       "{'Aman': 25, 'Rahul': 35, 'Ram': 40}"
      ]
     },
     "execution_count": 15,
     "metadata": {},
     "output_type": "execute_result"
    }
   ],
   "source": [
    "D5 = {'Aman': 25, 'Rahul': 35, 'Ram': 40}\n",
    "D5"
   ]
  },
  {
   "cell_type": "code",
   "execution_count": 16,
   "id": "cef986f2-3680-4d4e-ba55-361401dd2bd7",
   "metadata": {},
   "outputs": [],
   "source": [
    "D5.clear()"
   ]
  },
  {
   "cell_type": "code",
   "execution_count": 17,
   "id": "3bfedb95-7c9a-4b77-8049-b4b275e473d5",
   "metadata": {},
   "outputs": [
    {
     "data": {
      "text/plain": [
       "{}"
      ]
     },
     "execution_count": 17,
     "metadata": {},
     "output_type": "execute_result"
    }
   ],
   "source": [
    "D5"
   ]
  },
  {
   "cell_type": "code",
   "execution_count": null,
   "id": "0829f436-ec0b-4e64-b26b-e433ae670f28",
   "metadata": {},
   "outputs": [],
   "source": []
  }
 ],
 "metadata": {
  "kernelspec": {
   "display_name": "Python 3 (ipykernel)",
   "language": "python",
   "name": "python3"
  },
  "language_info": {
   "codemirror_mode": {
    "name": "ipython",
    "version": 3
   },
   "file_extension": ".py",
   "mimetype": "text/x-python",
   "name": "python",
   "nbconvert_exporter": "python",
   "pygments_lexer": "ipython3",
   "version": "3.11.7"
  }
 },
 "nbformat": 4,
 "nbformat_minor": 5
}
