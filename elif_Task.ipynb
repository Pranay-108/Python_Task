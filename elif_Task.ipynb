{
 "cells": [
  {
   "cell_type": "markdown",
   "id": "41226831-03ae-4fce-91a3-62cd6d28314e",
   "metadata": {},
   "source": [
    "# elif Task"
   ]
  },
  {
   "cell_type": "markdown",
   "id": "17beb2bb-9731-4d97-8643-67a44ba5c8d4",
   "metadata": {},
   "source": [
    "### Join Text"
   ]
  },
  {
   "cell_type": "code",
   "execution_count": 2,
   "id": "db230733-74b4-4088-80d7-8aff07579145",
   "metadata": {},
   "outputs": [
    {
     "name": "stdout",
     "output_type": "stream",
     "text": [
      "apple, banana, cherry\n"
     ]
    }
   ],
   "source": [
    "my_list = ['apple', 'banana', 'cherry']\n",
    "separator = ', '\n",
    "joined_string = separator.join(my_list)\n",
    "print(joined_string)"
   ]
  },
  {
   "cell_type": "markdown",
   "id": "bee6cfb2-9b1f-43af-9dbb-e4b68cd26ec4",
   "metadata": {},
   "source": [
    "### Trim Text"
   ]
  },
  {
   "cell_type": "code",
   "execution_count": 5,
   "id": "45d97b73-d7f8-42d5-b8bf-f0c1be27b6fe",
   "metadata": {},
   "outputs": [
    {
     "name": "stdout",
     "output_type": "stream",
     "text": [
      "!Hello, ARC!\n"
     ]
    }
   ],
   "source": [
    "string = '  !Hello, ARC!  '\n",
    "trimmed_string = string.strip()\n",
    "print(trimmed_string)"
   ]
  },
  {
   "cell_type": "markdown",
   "id": "1bd70b9a-b063-4e12-89b3-73b2a19f3c57",
   "metadata": {},
   "source": [
    "### Substitute Text"
   ]
  },
  {
   "cell_type": "code",
   "execution_count": 6,
   "id": "77663060-2efc-4f83-9309-e06e24307db4",
   "metadata": {},
   "outputs": [
    {
     "name": "stdout",
     "output_type": "stream",
     "text": [
      "Good Morning, Everyone!\n"
     ]
    }
   ],
   "source": [
    "text = \"Hello, Everyone!\"\n",
    "new_text = text.replace('Hello', 'Good Morning')\n",
    "print(new_text)"
   ]
  },
  {
   "cell_type": "markdown",
   "id": "f96e6749-be53-4e25-96e7-575c49bda5b5",
   "metadata": {},
   "source": [
    "### Cut Text"
   ]
  },
  {
   "cell_type": "code",
   "execution_count": 8,
   "id": "8745e483-2efb-49eb-a518-f5e7cba61411",
   "metadata": {},
   "outputs": [
    {
     "name": "stdout",
     "output_type": "stream",
     "text": [
      "the boss\n"
     ]
    }
   ],
   "source": [
    "full_string = \"I am the boss!\"\n",
    "cut_string = full_string[5:13]\n",
    "print(cut_string)"
   ]
  },
  {
   "cell_type": "markdown",
   "id": "0ef285cd-7323-4dea-a9b7-633ccea13aa5",
   "metadata": {},
   "source": [
    "## elif Operation"
   ]
  },
  {
   "cell_type": "code",
   "execution_count": 9,
   "id": "65601346-3737-4add-9af5-38c0801f45c7",
   "metadata": {},
   "outputs": [],
   "source": [
    "def text_operations(text, operation, *args):\n",
    "    \n",
    "    if operation == 'join':\n",
    "        separator = args[0] if args else ' '\n",
    "        return separator.join(text)\n",
    "    elif operation == 'trim':\n",
    "        return text.strip()\n",
    "    elif operation == 'substitute':\n",
    "        old_sub, new_sub = args\n",
    "        return text.replace(old_sub, new_sub)\n",
    "    elif operation == 'cut':\n",
    "        start, end = args\n",
    "        return text[start:end]\n",
    "    else:\n",
    "        return \"Invalid operation\""
   ]
  },
  {
   "cell_type": "code",
   "execution_count": 10,
   "id": "589d64e0-54a7-4d6d-ac05-0e0c7bac9cb5",
   "metadata": {},
   "outputs": [
    {
     "name": "stdout",
     "output_type": "stream",
     "text": [
      "Joined Text: Python-is-high-level-language\n"
     ]
    }
   ],
   "source": [
    "# Join text\n",
    "text = ['Python','is','high-level','language']\n",
    "joined_text = text_operations(text, 'join', '-')\n",
    "print(\"Joined Text:\", joined_text)\n"
   ]
  },
  {
   "cell_type": "code",
   "execution_count": 11,
   "id": "75e37ff5-2835-4dfc-a6cb-15f387c4c3c1",
   "metadata": {},
   "outputs": [
    {
     "name": "stdout",
     "output_type": "stream",
     "text": [
      "Original Text:     Python is high-level language    \n",
      "Trimmed Text: Python is high-level language\n",
      "Substituted Text:     Python is machine language    \n",
      "Cut Text: Python\n"
     ]
    }
   ],
   "source": [
    "text = \"    Python is high-level language    \"\n",
    "print(\"Original Text:\", text)\n",
    "\n",
    "# Trim text\n",
    "trimmed_text = text_operations(text, 'trim')\n",
    "print(\"Trimmed Text:\", trimmed_text)\n",
    "\n",
    "# Substitute text\n",
    "substituted_text = text_operations(text, 'substitute', 'high-level', 'machine')\n",
    "print(\"Substituted Text:\", substituted_text)\n",
    "\n",
    "# Cut text\n",
    "cut_text = text_operations(text, 'cut', 4,10)\n",
    "print(\"Cut Text:\", cut_text)"
   ]
  },
  {
   "cell_type": "code",
   "execution_count": null,
   "id": "bd8a1eef-c59e-47bf-b411-3a285543d899",
   "metadata": {},
   "outputs": [],
   "source": []
  }
 ],
 "metadata": {
  "kernelspec": {
   "display_name": "Python 3 (ipykernel)",
   "language": "python",
   "name": "python3"
  },
  "language_info": {
   "codemirror_mode": {
    "name": "ipython",
    "version": 3
   },
   "file_extension": ".py",
   "mimetype": "text/x-python",
   "name": "python",
   "nbconvert_exporter": "python",
   "pygments_lexer": "ipython3",
   "version": "3.11.7"
  }
 },
 "nbformat": 4,
 "nbformat_minor": 5
}
